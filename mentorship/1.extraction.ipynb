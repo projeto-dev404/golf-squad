{
 "cells": [
  {
   "cell_type": "markdown",
   "id": "2e298a5e",
   "metadata": {},
   "source": [
    "# Preparation\n",
    "\n",
    "Download files: \n",
    "\n",
    "* [airbnb.csv](https://drive.google.com/file/d/1BqQk8aQ5QNSCyBY1q7pzFwIrbKITPCEW/view?usp=share_link)\n",
    "* [cars.json](https://drive.google.com/file/d/1P3G-cpCvGVPFXUsEr5MXFB4YabYI16Rz/view?usp=share_link)\n",
    "\n",
    "Place both of them at [mentorship/input](../mentorship/input/)"
   ]
  },
  {
   "cell_type": "markdown",
   "id": "97f21a9e",
   "metadata": {},
   "source": [
    "# Reading/writing CSV"
   ]
  },
  {
   "cell_type": "code",
   "execution_count": 86,
   "id": "cae69071-dd3e-4fbf-a912-293746184234",
   "metadata": {},
   "outputs": [],
   "source": [
    "import csv"
   ]
  },
  {
   "cell_type": "code",
   "execution_count": 92,
   "id": "0d278eed-6bcf-42ec-8309-77a849266dfb",
   "metadata": {
    "scrolled": true
   },
   "outputs": [],
   "source": [
    "rows = list()\n",
    "with open('input/airbnb.csv') as csv_file:\n",
    "    reader = csv.DictReader(csv_file)\n",
    "    count = 0\n",
    "    for l in reader:\n",
    "        rows.append(l)"
   ]
  },
  {
   "cell_type": "code",
   "execution_count": 95,
   "id": "dfeea383-0134-4241-9d9b-d53aba9bab1a",
   "metadata": {},
   "outputs": [],
   "source": [
    "with open('output/test.csv', 'w') as csv_out:\n",
    "    writer = csv.DictWriter(csv_out, fieldnames=list(rows[0].keys()))\n",
    "    writer.writeheader()\n",
    "    writer.writerows(rows)"
   ]
  },
  {
   "cell_type": "markdown",
   "id": "df53a1eb-4f75-445c-bc04-967040449738",
   "metadata": {},
   "source": [
    "# Reading/writing json"
   ]
  },
  {
   "cell_type": "code",
   "execution_count": 96,
   "id": "99014a86-b4eb-455d-9c51-21701996e086",
   "metadata": {},
   "outputs": [],
   "source": [
    "import json"
   ]
  },
  {
   "cell_type": "code",
   "execution_count": 98,
   "id": "57463476-b9fe-4146-9152-9090fb4c442e",
   "metadata": {},
   "outputs": [],
   "source": [
    "with open('input/cars.json') as json_file:\n",
    "    json_content = json.load(json_file)"
   ]
  },
  {
   "cell_type": "markdown",
   "id": "8b7f0a98",
   "metadata": {},
   "source": [
    "### Writing json document"
   ]
  },
  {
   "cell_type": "code",
   "execution_count": 102,
   "id": "29df38e8-7cbf-41db-9572-c4cc59005250",
   "metadata": {
    "scrolled": true
   },
   "outputs": [],
   "source": [
    "with open('output/test.json', 'w') as json_out:\n",
    "    json.dump(json_content, json_out)"
   ]
  },
  {
   "cell_type": "markdown",
   "id": "965ffdad",
   "metadata": {},
   "source": [
    "### Writing jsonlines"
   ]
  },
  {
   "cell_type": "code",
   "execution_count": 103,
   "id": "2246410a-adfb-4212-b020-bbef55a74800",
   "metadata": {},
   "outputs": [],
   "source": [
    "with open('output/test_lines.json', 'w') as json_out:\n",
    "    for row in json_content:\n",
    "        json_out.write(json.dumps(row))\n",
    "        json_out.write('\\n')"
   ]
  },
  {
   "cell_type": "markdown",
   "id": "6452a80b-21d6-477b-8cca-89983cbbd5d2",
   "metadata": {},
   "source": [
    "# Fetching data from API e writing CSV"
   ]
  },
  {
   "cell_type": "code",
   "execution_count": 149,
   "id": "6c6919dc-0f87-46a6-8004-32fa795e10db",
   "metadata": {},
   "outputs": [],
   "source": [
    "import requests\n",
    "import requests.auth\n",
    "import urllib.parse\n",
    "\n",
    "from datetime import datetime\n",
    "from dateutil.relativedelta import relativedelta"
   ]
  },
  {
   "cell_type": "code",
   "execution_count": 165,
   "id": "c424aa52-9701-4f05-abf2-0d80b0311de3",
   "metadata": {},
   "outputs": [],
   "source": [
    "start = datetime(2021,1,1)"
   ]
  },
  {
   "cell_type": "code",
   "execution_count": 166,
   "id": "965903d9-39cd-4231-9aba-1a76c7ae6b7d",
   "metadata": {},
   "outputs": [
    {
     "name": "stdout",
     "output_type": "stream",
     "text": [
      "Processing 202101\n",
      "Processing 202102\n"
     ]
    }
   ],
   "source": [
    "ENDPOINT = 'https://olinda.bcb.gov.br/olinda/servico/Pix_DadosAbertos/versao/v1/odata/TransacoesPixPorMunicipio(DataBase=@DataBase)'\n",
    "BASE_PARAMS = {\n",
    "    '@DataBase': \"'202101'\",\n",
    "    '$top': '6000',\n",
    "    '$filter': '',\n",
    "    '$format': 'json',\n",
    "    '$select': 'AnoMes,Municipio,Estado,VL_PagadorPF,QT_PagadorPF,VL_PagadorPJ,QT_PagadorPJ'\n",
    "}\n",
    "\n",
    "\n",
    "pix_per_cities = list()\n",
    "while start < datetime(2021,3,1):\n",
    "    print(f\"Processing {start.strftime('%Y%m')}\")\n",
    "    params = BASE_PARAMS.copy()\n",
    "    params['$filter'] = \"AnoMes eq {}\".format(start.strftime('%Y%m'))\n",
    "    res = requests.get(ENDPOINT, params=urllib.parse.urlencode(params, quote_via=urllib.parse.quote))\n",
    "    if res.status_code < 299:\n",
    "        pix_per_cities.extend(res.json()['value'])\n",
    "    start += relativedelta(months=1)\n"
   ]
  },
  {
   "cell_type": "code",
   "execution_count": 170,
   "id": "52fcdd88-abb2-4282-a5d4-041b0fe04571",
   "metadata": {},
   "outputs": [],
   "source": [
    "with open('output/pix_per_cities.csv', 'w') as csv_out:\n",
    "    writer = csv.DictWriter(csv_out, fieldnames=list(pix_per_cities[0].keys()))\n",
    "    writer.writeheader()\n",
    "    writer.writerows(pix_per_cities)"
   ]
  },
  {
   "cell_type": "markdown",
   "id": "a8d5aac0",
   "metadata": {},
   "source": [
    "# Reading credentials from json"
   ]
  },
  {
   "cell_type": "code",
   "execution_count": null,
   "id": "65ec3994-f3fe-4fad-b47a-5359ce5ff329",
   "metadata": {},
   "outputs": [],
   "source": [
    "import json"
   ]
  },
  {
   "cell_type": "code",
   "execution_count": 175,
   "id": "315cdf45-c705-4e26-b0c7-5ed62111d1d3",
   "metadata": {},
   "outputs": [
    {
     "name": "stdout",
     "output_type": "stream",
     "text": [
      "12345\n"
     ]
    }
   ],
   "source": [
    "with open('/Users/ext.flteixeira/projects/personal/golf-squad/creds.json') as json_file:\n",
    "    credentials = json.load(json_file)\n",
    "    print(credentials[\"senha\"])"
   ]
  },
  {
   "cell_type": "markdown",
   "id": "15f962d6",
   "metadata": {},
   "source": [
    "# Reading credentials from ENV"
   ]
  },
  {
   "cell_type": "code",
   "execution_count": 173,
   "id": "f67f707b-1d3a-480e-bd29-0680b1af1a32",
   "metadata": {},
   "outputs": [],
   "source": [
    "import os"
   ]
  },
  {
   "cell_type": "code",
   "execution_count": 174,
   "id": "9cd7db7d-5e0b-4ba7-9ba0-5c6e3d05330f",
   "metadata": {},
   "outputs": [
    {
     "data": {
      "text/plain": [
       "'3.4.19'"
      ]
     },
     "execution_count": 174,
     "metadata": {},
     "output_type": "execute_result"
    }
   ],
   "source": [
    "os.getenv('LC_TERMINAL_VERSION')"
   ]
  }
 ],
 "metadata": {
  "kernelspec": {
   "display_name": "Python 3 (ipykernel)",
   "language": "python",
   "name": "python3"
  },
  "language_info": {
   "codemirror_mode": {
    "name": "ipython",
    "version": 3
   },
   "file_extension": ".py",
   "mimetype": "text/x-python",
   "name": "python",
   "nbconvert_exporter": "python",
   "pygments_lexer": "ipython3",
   "version": "3.10.12"
  }
 },
 "nbformat": 4,
 "nbformat_minor": 5
}
