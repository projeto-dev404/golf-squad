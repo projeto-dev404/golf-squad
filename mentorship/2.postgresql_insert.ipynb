{
 "cells": [
  {
   "cell_type": "markdown",
   "metadata": {},
   "source": [
    "# Writing data into PostgreSQL"
   ]
  },
  {
   "cell_type": "markdown",
   "metadata": {},
   "source": [
    "### Installing psycopg2"
   ]
  },
  {
   "cell_type": "code",
   "execution_count": null,
   "metadata": {},
   "outputs": [],
   "source": [
    "%pip install psycopg2-binary"
   ]
  },
  {
   "cell_type": "code",
   "execution_count": null,
   "metadata": {},
   "outputs": [],
   "source": [
    "import psycopg2\n",
    "import psycopg2.extras\n",
    "import json"
   ]
  },
  {
   "cell_type": "markdown",
   "metadata": {},
   "source": [
    "### cars_silver table DDL\n",
    "\n",
    "```SQL\n",
    "CREATE TABLE public.cars_silver (\n",
    "\tid integer NOT NULL,\n",
    "\tbrand varchar NOT NULL,\n",
    "\tpower integer,\n",
    "\tnum_cylinders integer,\n",
    "\tblock_type varchar,\n",
    "\ttop_speed_value integer,\n",
    "\ttop_speed_unit varchar,\n",
    "\tCONSTRAINT cars_bronze_pk PRIMARY KEY (id)\n",
    ");\n",
    "```"
   ]
  },
  {
   "cell_type": "code",
   "execution_count": null,
   "metadata": {},
   "outputs": [],
   "source": [
    "conn_string = f\"host=localhost dbname=mentorship \" \\\n",
    "              f\"user=postgres password=12345678\"\n",
    "\n",
    "query = \"\"\"\n",
    "INSERT INTO cars_silver(id, brand, power, num_cylinders, block_type, top_speed_value, top_speed_unit)\n",
    "VALUES (%(id)s, %(brand)s, %(power)s, %(num_cylinders)s, %(block_type)s, %(top_speed_value)s, %(top_speed_unit)s)\n",
    "ON CONFLICT (id)\n",
    "DO NOTHING\n",
    "\"\"\""
   ]
  },
  {
   "cell_type": "code",
   "execution_count": null,
   "metadata": {},
   "outputs": [],
   "source": [
    "def convert_power_to_int(row, new_row):\n",
    "    try:\n",
    "        new_row[\"power\"] = int(row[\"power\"])\n",
    "    except:\n",
    "        new_row[\"power\"] = None\n",
    "\n",
    "\n",
    "def break_cylinders_column(row, new_row):\n",
    "    old_cylinders = row.get(\"cylinders\")\n",
    "    if old_cylinders:\n",
    "        if ', ' in old_cylinders:\n",
    "            new_row[\"num_cylinders\"] = int(old_cylinders.split(', ')[0])\n",
    "            new_row[\"block_type\"] = old_cylinders.split(', ')[1]\n",
    "        elif old_cylinders.isnumeric():\n",
    "            new_row[\"num_cylinders\"] = int(old_cylinders)\n",
    "            new_row[\"block_type\"] = None\n",
    "        else:\n",
    "            new_row[\"num_cylinders\"] = None\n",
    "            new_row[\"block_type\"] = old_cylinders\n",
    "    else:        \n",
    "        new_row[\"num_cylinders\"] = None\n",
    "        new_row[\"block_type\"] = None    \n",
    "\n",
    "\n",
    "def break_top_speed_column(row, new_row):\n",
    "    old_top_speed = row.get(\"top_speed\")\n",
    "    try:\n",
    "        if old_top_speed:\n",
    "            if ' ' in old_top_speed:\n",
    "                    new_row[\"top_speed_value\"] = int(old_top_speed.split(' ')[0])\n",
    "                    new_row[\"top_speed_unit\"] = old_top_speed.split(' ')[1]\n",
    "            elif old_top_speed.isnumeric():\n",
    "                new_row[\"top_speed_value\"] = int(old_top_speed)\n",
    "                new_row[\"top_speed_unit\"] = None\n",
    "        else:\n",
    "            new_row[\"top_speed_value\"] = None\n",
    "            new_row[\"top_speed_unit\"] = None    \n",
    "    except:\n",
    "        new_row[\"top_speed_value\"] = None\n",
    "        new_row[\"top_speed_unit\"] = None"
   ]
  },
  {
   "cell_type": "code",
   "execution_count": null,
   "metadata": {},
   "outputs": [],
   "source": [
    "with open('input/cars.json') as json_file:\n",
    "    data = json.load(json_file)"
   ]
  },
  {
   "cell_type": "code",
   "execution_count": null,
   "metadata": {},
   "outputs": [],
   "source": [
    "data_to_insert = list()\n",
    "for row in data:\n",
    "    new_row = dict()\n",
    "    new_row[\"id\"] = row[\"car_id\"]\n",
    "    new_row[\"brand\"] = row[\"brand\"]\n",
    "    convert_power_to_int(row, new_row)\n",
    "    break_cylinders_column(row, new_row)\n",
    "    break_top_speed_column(row, new_row)\n",
    "    data_to_insert.append(new_row)"
   ]
  },
  {
   "cell_type": "code",
   "execution_count": null,
   "metadata": {},
   "outputs": [],
   "source": [
    "# We use `with` to garantee that the conn will be closed as soon as the commands within the block are run\n",
    "\n",
    "with psycopg2.connect(conn_string) as conn:\n",
    "    cursor = conn.cursor()\n",
    "    psycopg2.extras.execute_batch(cursor, query, data_to_insert)\n",
    "    conn.commit()"
   ]
  }
 ],
 "metadata": {
  "language_info": {
   "name": "python"
  },
  "orig_nbformat": 4
 },
 "nbformat": 4,
 "nbformat_minor": 2
}
