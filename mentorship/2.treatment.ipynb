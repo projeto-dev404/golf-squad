{
 "cells": [
  {
   "cell_type": "markdown",
   "id": "4ef0dec8",
   "metadata": {},
   "source": [
    "# Treating data"
   ]
  },
  {
   "cell_type": "code",
   "execution_count": 1,
   "id": "9595781b-9d03-489c-84bc-1315ab84baa1",
   "metadata": {},
   "outputs": [],
   "source": [
    "import json"
   ]
  },
  {
   "cell_type": "code",
   "execution_count": 49,
   "id": "8613e2aa-ac8b-4b63-913f-4cd5b8a7c30e",
   "metadata": {},
   "outputs": [],
   "source": [
    "with open('input/cars.json') as json_file:\n",
    "    data = json.load(json_file)"
   ]
  },
  {
   "cell_type": "code",
   "execution_count": 38,
   "id": "bc2fb80a-2383-4f91-a535-2c00a13480d1",
   "metadata": {
    "scrolled": true
   },
   "outputs": [
    {
     "data": {
      "text/plain": [
       "{'brand': 'Citroen',\n",
       " 'car_id': 10296,\n",
       " 'model': 'Citroen C8 2.0i 16V Prestige 2008',\n",
       " 'cylinders': '4, in line',\n",
       " 'transmission': '5 speed manual transmission',\n",
       " 'drive_wheel': 'front',\n",
       " 'power': '138',\n",
       " 'max_power_rpm': '6000 tpm',\n",
       " 'torque': '190 nm',\n",
       " 'max_torque_rpm': '4100 tpm',\n",
       " 'turbo': 'no',\n",
       " 'fuel': 'gasoline',\n",
       " 'top_speed': '185 km/h',\n",
       " 'acc_0_100': '12,2 s',\n",
       " 'gear_1': '3,45:1',\n",
       " 'gear_2': '1,87:1',\n",
       " 'gear_3': '1,28:1',\n",
       " 'gear_4': '0,95:1',\n",
       " 'gear_5': '0,80:1',\n",
       " 'gear_6': None,\n",
       " 'gear_7': None,\n",
       " 'gear_8': None,\n",
       " 'gear_9': None,\n",
       " 'gear_r': '3,33:1',\n",
       " 'gear_final': '4,43:1',\n",
       " 'front_tire': '215/60r16',\n",
       " 'rear_tire': '215/60r16',\n",
       " 'eng_capacity': '1998 cc',\n",
       " 'weight': '1606 kg',\n",
       " 'height': '1856 mm',\n",
       " 'width': '1854 mm',\n",
       " 'length': '4726 mm',\n",
       " 'wheelbase': '2823 mm'}"
      ]
     },
     "execution_count": 38,
     "metadata": {},
     "output_type": "execute_result"
    }
   ],
   "source": [
    "data[0]"
   ]
  },
  {
   "cell_type": "code",
   "execution_count": 48,
   "id": "4bbb46dd-71d5-414c-8dad-bb920df0eb31",
   "metadata": {},
   "outputs": [],
   "source": [
    "def convert_power_to_int(row):\n",
    "    try:\n",
    "        row[\"power\"] = int(row[\"power\"])\n",
    "    except:\n",
    "        pass\n",
    "\n",
    "\n",
    "def break_cylinders_column(row):\n",
    "    old_cylinders = row.pop(\"cylinders\") if \"cylinders\" in row else None\n",
    "    if old_cylinders:\n",
    "        if ', ' in old_cylinders:\n",
    "            row[\"num_cylinders\"] = int(old_cylinders.split(', ')[0])\n",
    "            row[\"block_type\"] = old_cylinders.split(', ')[1]\n",
    "        elif old_cylinders.isnumeric():\n",
    "            row[\"num_cylinders\"] = int(old_cylinders)\n",
    "            row[\"block_type\"] = None\n",
    "        else:\n",
    "            row[\"num_cylinders\"] = None\n",
    "            row[\"block_type\"] = old_cylinders\n",
    "    else:        \n",
    "        row[\"num_cylinders\"] = None\n",
    "        row[\"block_type\"] = None    \n",
    "\n",
    "\n",
    "def break_top_speed_column(row):\n",
    "    old_top_speed = row.pop(\"top_speed\") if \"top_speed\" in row else None\n",
    "    try:\n",
    "        if old_top_speed:\n",
    "            if ' ' in old_top_speed:\n",
    "                    row[\"top_speed_value\"] = int(old_top_speed.split(' ')[0])\n",
    "                    row[\"top_speed_unit\"] = old_top_speed.split(' ')[1]\n",
    "            elif old_top_speed.isnumeric():\n",
    "                row[\"top_speed_value\"] = int(old_top_speed)\n",
    "                row[\"top_speed_unit\"] = None\n",
    "        else:\n",
    "            row[\"top_speed_value\"] = None\n",
    "            row[\"top_speed_unit\"] = None    \n",
    "    except:\n",
    "        row[\"top_speed_value\"] = None\n",
    "        row[\"top_speed_unit\"] = None"
   ]
  },
  {
   "cell_type": "code",
   "execution_count": 50,
   "id": "95f36f8c-6f78-42cb-af96-2f6cd1fd7d70",
   "metadata": {},
   "outputs": [],
   "source": [
    "for row in data:\n",
    "    convert_power_to_int(row)\n",
    "    break_cylinders_column(row)\n",
    "    break_top_speed_column(row)"
   ]
  },
  {
   "cell_type": "code",
   "execution_count": 51,
   "id": "243d94f6-b2de-4a1f-9461-49c2a6f45df6",
   "metadata": {},
   "outputs": [
    {
     "data": {
      "text/plain": [
       "{'brand': 'Citroen',\n",
       " 'car_id': 10296,\n",
       " 'model': 'Citroen C8 2.0i 16V Prestige 2008',\n",
       " 'transmission': '5 speed manual transmission',\n",
       " 'drive_wheel': 'front',\n",
       " 'power': 138,\n",
       " 'max_power_rpm': '6000 tpm',\n",
       " 'torque': '190 nm',\n",
       " 'max_torque_rpm': '4100 tpm',\n",
       " 'turbo': 'no',\n",
       " 'fuel': 'gasoline',\n",
       " 'acc_0_100': '12,2 s',\n",
       " 'gear_1': '3,45:1',\n",
       " 'gear_2': '1,87:1',\n",
       " 'gear_3': '1,28:1',\n",
       " 'gear_4': '0,95:1',\n",
       " 'gear_5': '0,80:1',\n",
       " 'gear_6': None,\n",
       " 'gear_7': None,\n",
       " 'gear_8': None,\n",
       " 'gear_9': None,\n",
       " 'gear_r': '3,33:1',\n",
       " 'gear_final': '4,43:1',\n",
       " 'front_tire': '215/60r16',\n",
       " 'rear_tire': '215/60r16',\n",
       " 'eng_capacity': '1998 cc',\n",
       " 'weight': '1606 kg',\n",
       " 'height': '1856 mm',\n",
       " 'width': '1854 mm',\n",
       " 'length': '4726 mm',\n",
       " 'wheelbase': '2823 mm',\n",
       " 'num_cylinders': 4,\n",
       " 'block_type': 'in line',\n",
       " 'top_speed_value': 185,\n",
       " 'top_speed_unit': 'km/h'}"
      ]
     },
     "execution_count": 51,
     "metadata": {},
     "output_type": "execute_result"
    }
   ],
   "source": [
    "data[0]"
   ]
  }
 ],
 "metadata": {
  "kernelspec": {
   "display_name": "Python 3 (ipykernel)",
   "language": "python",
   "name": "python3"
  },
  "language_info": {
   "codemirror_mode": {
    "name": "ipython",
    "version": 3
   },
   "file_extension": ".py",
   "mimetype": "text/x-python",
   "name": "python",
   "nbconvert_exporter": "python",
   "pygments_lexer": "ipython3",
   "version": "3.8.10"
  }
 },
 "nbformat": 4,
 "nbformat_minor": 5
}
